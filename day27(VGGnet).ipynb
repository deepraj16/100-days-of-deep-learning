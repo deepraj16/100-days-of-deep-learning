{
 "cells": [
  {
   "cell_type": "code",
   "execution_count": null,
   "id": "e3cb7301-dc1e-4aee-b560-48f3c8fe9c7d",
   "metadata": {},
   "outputs": [],
   "source": [
    "import zipfile \n",
    "zip_ref = zipfile.ZipFile('/content/dog-vs-cats.zip','r')\n",
    "zip_ref.extractall()\n",
    "zip_ref.close()"
   ]
  },
  {
   "cell_type": "code",
   "execution_count": 14,
   "id": "a317a053-9bb5-48fd-9d4d-11b7bfd6a43e",
   "metadata": {},
   "outputs": [],
   "source": [
    "import tensorflow \n",
    "from tensorflow import keras \n",
    "from keras.models import Sequential \n",
    "from keras.layers import Dense,Flatten\n",
    "from keras.applications.vgg16 import VGG16 \n",
    "from tensorflow.keras.preprocessing.image import ImageDataGenerator ,array_to_img ,img_to_array ,load_img"
   ]
  },
  {
   "cell_type": "code",
   "execution_count": 3,
   "id": "11c32049-6fc7-4291-8f73-e1a9e93994fc",
   "metadata": {},
   "outputs": [],
   "source": [
    "model =Sequential()\n",
    "model.add(conv_base)\n",
    "model.add(Flatten())\n",
    "model.add(Dense(256,activation='relu'))\n",
    "model.add(Dense(1,activation='sigmoid'))"
   ]
  },
  {
   "cell_type": "code",
   "execution_count": 5,
   "id": "83be8b01-ec33-41ba-9338-a39e4cff2a1f",
   "metadata": {},
   "outputs": [
    {
     "name": "stdout",
     "output_type": "stream",
     "text": [
      "Downloading data from https://storage.googleapis.com/tensorflow/keras-applications/vgg16/vgg16_weights_tf_dim_ordering_tf_kernels_notop.h5\n",
      "\u001b[1m58889256/58889256\u001b[0m \u001b[32m━━━━━━━━━━━━━━━━━━━━\u001b[0m\u001b[37m\u001b[0m \u001b[1m101s\u001b[0m 2us/step\n"
     ]
    }
   ],
   "source": [
    "cinv_base =VGG16(\n",
    "    weights='imagenet', \n",
    "    include_top = False , \n",
    "    input_shape=(150,150,3)\n",
    ")"
   ]
  },
  {
   "cell_type": "code",
   "execution_count": 6,
   "id": "80798ee8-7781-4f73-b4bd-f7a8cabef5c7",
   "metadata": {},
   "outputs": [],
   "source": [
    "conv_base.trainable=False"
   ]
  },
  {
   "cell_type": "code",
   "execution_count": 20,
   "id": "c4608bb7-8582-4cd3-9fdb-ec1e2632cf59",
   "metadata": {},
   "outputs": [],
   "source": [
    "\n",
    "train_datagen = ImageDataGenerator(\n",
    "    rescale=1. /255 , \n",
    "    shear_range =0.2 , \n",
    "    zoom_range =0.2 , \n",
    "    horizontal_flip =True \n",
    ")\n",
    "\n",
    "train_datagen = ImageDataGenerator(rescale = 1./255)\n"
   ]
  },
  {
   "cell_type": "code",
   "execution_count": null,
   "id": "5e5e80d3-6bcd-4d2d-a790-379ebfefc909",
   "metadata": {},
   "outputs": [],
   "source": []
  }
 ],
 "metadata": {
  "kernelspec": {
   "display_name": "Python 3 (ipykernel)",
   "language": "python",
   "name": "python3"
  },
  "language_info": {
   "codemirror_mode": {
    "name": "ipython",
    "version": 3
   },
   "file_extension": ".py",
   "mimetype": "text/x-python",
   "name": "python",
   "nbconvert_exporter": "python",
   "pygments_lexer": "ipython3",
   "version": "3.11.7"
  },
  "widgets": {
   "application/vnd.jupyter.widget-state+json": {
    "state": {},
    "version_major": 2,
    "version_minor": 0
   }
  }
 },
 "nbformat": 4,
 "nbformat_minor": 5
}
